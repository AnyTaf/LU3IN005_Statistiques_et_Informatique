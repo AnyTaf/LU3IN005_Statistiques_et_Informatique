{
  "cells": [
    {
      "cell_type": "markdown",
      "metadata": {
        "id": "uquRZpzfMBxn"
      },
      "source": [
        "### Partie1"
      ]
    },
    {
      "cell_type": "code",
      "execution_count": 5,
      "metadata": {
        "id": "bVXrNgJ9MVyC"
      },
      "outputs": [],
      "source": [
        "#import neccessary packages\n",
        "import pandas as pd\n",
        "import numpy as np\n"
      ]
    },
    {
      "cell_type": "code",
      "execution_count": 23,
      "metadata": {
        "id": "98euMFJiMLYB"
      },
      "outputs": [],
      "source": [
        "#load data \n",
        "data_set = np.loadtxt('data_exo_2022.txt')"
      ]
    },
    {
      "cell_type": "markdown",
      "metadata": {
        "id": "xajPqAq7Qr6q"
      },
      "source": [
        "2- Estimez les probabilités de transition entre les états et dressez la matrice de probabilité de transitions\n",
        "(indice pour vérifier vos résultats : la première ligne de la matrice est [0.9308, 0.0691, 0.])"
      ]
    },
    {
      "cell_type": "code",
      "execution_count": 27,
      "metadata": {
        "colab": {
          "base_uri": "https://localhost:8080/"
        },
        "id": "A_E-x9tCMLSw",
        "outputId": "8c1d60b0-ec9c-4d74-9cf1-d7f830cbcdbc"
      },
      "outputs": [
        {
          "name": "stdout",
          "output_type": "stream",
          "text": [
            "[[0.92665658 0.06886075 0.        ]\n",
            " [0.         0.9308678  0.06451953]\n",
            " [0.04042983 0.         0.95392264]]\n"
          ]
        }
      ],
      "source": [
        "matrice_transition = np.zeros((3,3))\n",
        "\n",
        "def create_matrice_transit(data_set,matrice_transition) :\n",
        "  nb_S = np.count_nonzero(data_set == 0)\n",
        "  nb_I = np.count_nonzero(data_set == 1)\n",
        "  nb_R = np.count_nonzero(data_set == 2)\n",
        "  for T in range(len(matrice_transition[0])):\n",
        "    for T_1 in range(len(matrice_transition)) : \n",
        "      for i in range(data_set.shape[0]):\n",
        "        for j in range(data_set.shape[1]-1):\n",
        "          if data_set[i][j]==T_1 and data_set[i][j+1]==T :\n",
        "            matrice_transition [T_1][T] +=1\n",
        "      if T_1==0 :\n",
        "        matrice_transition [T_1][T] =matrice_transition [T_1][T] /nb_S\n",
        "      if T_1==1 :\n",
        "        matrice_transition [T_1][T] =matrice_transition [T_1][T]/nb_I\n",
        "      if T_1==2 :\n",
        "        matrice_transition [T_1][T] =matrice_transition [T_1][T]/nb_R\n",
        "  return matrice_transition\n",
        "\n",
        "print (create_matrice_transit(data_set,matrice_transition))"
      ]
    },
    {
      "cell_type": "markdown",
      "metadata": {
        "id": "1T0mYMpQLvbo"
      },
      "source": [
        "### Partie2"
      ]
    },
    {
      "cell_type": "code",
      "execution_count": null,
      "metadata": {
        "id": "c9QRCem-MKaR"
      },
      "outputs": [],
      "source": []
    },
    {
      "cell_type": "code",
      "execution_count": null,
      "metadata": {
        "id": "Ulh3ZPyWMKVw"
      },
      "outputs": [],
      "source": []
    },
    {
      "cell_type": "markdown",
      "metadata": {
        "id": "B50kiUeTLvUf"
      },
      "source": [
        "### Partie3"
      ]
    },
    {
      "cell_type": "code",
      "execution_count": null,
      "metadata": {
        "id": "WLUDpmSCMJbG"
      },
      "outputs": [],
      "source": []
    },
    {
      "cell_type": "code",
      "execution_count": null,
      "metadata": {
        "id": "ydouaawxMJTt"
      },
      "outputs": [],
      "source": []
    },
    {
      "cell_type": "markdown",
      "metadata": {
        "id": "tLBZ-Y_6LvL3"
      },
      "source": [
        "###Partie4"
      ]
    },
    {
      "cell_type": "markdown",
      "metadata": {
        "id": "0cjl0rEMMG7S"
      },
      "source": []
    },
    {
      "cell_type": "markdown",
      "metadata": {
        "id": "j95DDwXQLeRH"
      },
      "source": [
        "### Partie5"
      ]
    },
    {
      "cell_type": "markdown",
      "metadata": {
        "id": "3VyoqoNFLd7A"
      },
      "source": []
    },
    {
      "cell_type": "code",
      "execution_count": null,
      "metadata": {
        "id": "ary9xwYALp_0"
      },
      "outputs": [],
      "source": []
    },
    {
      "cell_type": "code",
      "execution_count": null,
      "metadata": {
        "id": "yD2jAP8CLsCT"
      },
      "outputs": [],
      "source": []
    },
    {
      "cell_type": "code",
      "execution_count": null,
      "metadata": {
        "id": "-tQXIZsHLtqi"
      },
      "outputs": [],
      "source": []
    }
  ],
  "metadata": {
    "colab": {
      "collapsed_sections": [
        "1T0mYMpQLvbo",
        "B50kiUeTLvUf",
        "tLBZ-Y_6LvL3",
        "j95DDwXQLeRH"
      ],
      "provenance": []
    },
    "kernelspec": {
      "display_name": "Python 3",
      "name": "python3"
    },
    "language_info": {
      "name": "python"
    }
  },
  "nbformat": 4,
  "nbformat_minor": 0
}
